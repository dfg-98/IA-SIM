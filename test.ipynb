{
 "cells": [
  {
   "cell_type": "code",
   "execution_count": 5,
   "metadata": {},
   "outputs": [],
   "source": [
    "import networkx as nx\n",
    "from matplotlib import pyplot as plt\n",
    "from pyvis.network import Network\n",
    "from simpy import Environment\n",
    "from models.consumers import MinMaxConsumerNode, TurnBasedConsumerNode\n",
    "from models.generators import GeneratorNode\n",
    "from models.producers import ResourceProducerNode\n",
    "from models.net import Net\n",
    "\n",
    "\n",
    "nodes_1 = [\n",
    "    MinMaxConsumerNode(0, 50, 100),\n",
    "    MinMaxConsumerNode(1, 50, 100),\n",
    "    MinMaxConsumerNode(2, 20, 30),\n",
    "    MinMaxConsumerNode(3, 20, 30),\n",
    "    MinMaxConsumerNode(4, 100, 150),\n",
    "    TurnBasedConsumerNode(5, 500, 1, 3),\n",
    "    GeneratorNode(6, max_generation=600, max_resources=1000)\n",
    "]\n",
    "\n",
    "nodes_2 = [\n",
    "    MinMaxConsumerNode(0, 50, 100),\n",
    "    MinMaxConsumerNode(1, 50, 100),\n",
    "    MinMaxConsumerNode(2, 20, 30),\n",
    "    MinMaxConsumerNode(3, 20, 30),\n",
    "    MinMaxConsumerNode(4, 100, 150),\n",
    "    TurnBasedConsumerNode(5, 500, 1, 3),\n",
    "    GeneratorNode(6, max_generation=600, max_resources=1000),\n",
    "    GeneratorNode(7, max_generation=300, max_resources=500, generation_rate=0.25),\n",
    "    ResourceProducerNode(8, max_resource_production=1000)\n",
    "    \n",
    "]\n",
    "\n"
   ]
  },
  {
   "cell_type": "code",
   "execution_count": 6,
   "metadata": {},
   "outputs": [],
   "source": [
    "import numpy as np\n",
    "\n",
    "costs_1 = np.array([\n",
    "    [np.inf, 1, 1, 1, 1, 1, 1, ],\n",
    "    [1, np.inf, 1, 1, 1, 1, 1000, ],\n",
    "    [1, 1, np.inf, 1, 1, 1, 1000, ],\n",
    "    [1, 1, 1, np.inf, 1, 1, 1000, ],\n",
    "    [1, 1, 1, 1, np.inf, 1, 1000, ],\n",
    "    [1, 1, 1, 1, 1, np.inf, 1000, ],\n",
    "    [1, 1000, 1000, 1000, 1000, 1000, np.inf, ],\n",
    "    \n",
    "])\n",
    "\n",
    "\n",
    "\n",
    "costs_2 = np.array([\n",
    "    [np.inf, 1, 1, 1, 1, 1, 1, 1, 1],\n",
    "    [1, np.inf, 1, 1, 1, 1, 1, 1, 1],\n",
    "    [1, 1, np.inf, 1, 1, 1, 1, 1, 1],\n",
    "    [1, 1, 1, np.inf, 1, 1, 1, 1, 1],\n",
    "    [1, 1, 1, 1, np.inf, 1, 1, 1, 1],\n",
    "    [1, 1, 1, 1, 1, np.inf, 1, 1, 1],\n",
    "    [1, 1, 1, 1, 1, 1, np.inf, 1, 1],\n",
    "    [1, 1, 1, 1, 1, 1, 1, np.inf, 1],\n",
    "    [1, 1, 1, 1, 1, 1, 1, 1, np.inf],\n",
    "])\n",
    "\n",
    "\n",
    "\n"
   ]
  },
  {
   "cell_type": "code",
   "execution_count": 7,
   "metadata": {},
   "outputs": [],
   "source": [
    "from models.node_parser import write_json\n",
    "\n",
    "write_json(nodes_1, costs_1 , \"case_1.json\")\n",
    "write_json(nodes_2, costs_2 , \"case_2.json\")\n",
    "\n"
   ]
  },
  {
   "cell_type": "code",
   "execution_count": null,
   "metadata": {},
   "outputs": [],
   "source": []
  }
 ],
 "metadata": {
  "kernelspec": {
   "display_name": "Python 3.8.13 64-bit ('iasim')",
   "language": "python",
   "name": "python3"
  },
  "language_info": {
   "codemirror_mode": {
    "name": "ipython",
    "version": 3
   },
   "file_extension": ".py",
   "mimetype": "text/x-python",
   "name": "python",
   "nbconvert_exporter": "python",
   "pygments_lexer": "ipython3",
   "version": "3.8.13"
  },
  "orig_nbformat": 4,
  "vscode": {
   "interpreter": {
    "hash": "ee069120747d06a2997ebd18028b7ea02906ad0d5d437e834edd222e90d8023b"
   }
  }
 },
 "nbformat": 4,
 "nbformat_minor": 2
}
